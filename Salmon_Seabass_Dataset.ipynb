{
  "nbformat": 4,
  "nbformat_minor": 0,
  "metadata": {
    "colab": {
      "provenance": [],
      "authorship_tag": "ABX9TyMJYKafzmg6xn8izqYE8BFi",
      "include_colab_link": true
    },
    "kernelspec": {
      "name": "python3",
      "display_name": "Python 3"
    },
    "language_info": {
      "name": "python"
    }
  },
  "cells": [
    {
      "cell_type": "markdown",
      "metadata": {
        "id": "view-in-github",
        "colab_type": "text"
      },
      "source": [
        "<a href=\"https://colab.research.google.com/github/dewarakaks/Classification-based-on-the-Seabass-Salmon-Dataset-using-Na-ve-Bayes/blob/main/Salmon_Seabass_Dataset.ipynb\" target=\"_parent\"><img src=\"https://colab.research.google.com/assets/colab-badge.svg\" alt=\"Open In Colab\"/></a>"
      ]
    },
    {
      "cell_type": "code",
      "execution_count": null,
      "metadata": {
        "colab": {
          "base_uri": "https://localhost:8080/"
        },
        "id": "MhmI8doIybIL",
        "outputId": "c7401857-bc9e-44ca-832b-c186e16c0210"
      },
      "outputs": [
        {
          "output_type": "stream",
          "name": "stdout",
          "text": [
            "Hasil Prediksi: seabass\n"
          ]
        }
      ],
      "source": [
        "import pandas as pd\n",
        "from sklearn.naive_bayes import GaussianNB\n",
        "\n",
        "# Baca data dari file CSV\n",
        "df = pd.read_csv('/content/salmon_seabass.csv')\n",
        "\n",
        "from sklearn.model_selection import train_test_split\n",
        "\n",
        "X = df[['width', 'lightness']]\n",
        "y = df['species_desc']\n",
        "\n",
        "X_train, X_test, y_train, y_test = train_test_split(X, y, test_size=0.2, random_state=42)\n",
        "\n",
        "model = GaussianNB()\n",
        "model.fit(X_train, y_train)\n",
        "\n",
        "new_data = pd.DataFrame({'width': [15], 'lightness': [7.2]})\n",
        "prediction = model.predict(new_data)\n",
        "\n",
        "print(\"Hasil Prediksi:\", prediction[0])\n"
      ]
    }
  ]
}